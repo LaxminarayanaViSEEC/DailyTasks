{
 "cells": [
  {
   "cell_type": "code",
   "execution_count": 1,
   "metadata": {},
   "outputs": [],
   "source": [
    "import fitz\n",
    "import numpy as np\n",
    "import pandas as pd"
   ]
  },
  {
   "cell_type": "code",
   "execution_count": 6,
   "metadata": {},
   "outputs": [],
   "source": [
    "pdf1 = \"D:\\\\iDX\\\\dataset\\\\4gs.pdf\"\n",
    "pdf2 = \"D:\\\\iDX\\\\dataset\\\\aegon.pdf\""
   ]
  },
  {
   "cell_type": "code",
   "execution_count": 40,
   "metadata": {},
   "outputs": [],
   "source": [
    "doc = fitz.open(pdf1)"
   ]
  },
  {
   "cell_type": "code",
   "execution_count": 18,
   "metadata": {},
   "outputs": [],
   "source": [
    "x=(53.364234924316406, 390.51904296875, 603.14208984375, 400.4906921386719)\n",
    "y=(82.41059112548828, 401.32568359375, 604.0036010742188, 443.7211608886719)"
   ]
  },
  {
   "cell_type": "code",
   "execution_count": 24,
   "metadata": {},
   "outputs": [],
   "source": [
    "doc.save('test1.pdf')"
   ]
  },
  {
   "cell_type": "code",
   "execution_count": 50,
   "metadata": {},
   "outputs": [],
   "source": [
    "doc = fitz.open(pdf2)"
   ]
  },
  {
   "cell_type": "code",
   "execution_count": 63,
   "metadata": {},
   "outputs": [],
   "source": [
    "def block_merge_determiner(previous_block, current_block):\n",
    "    prev_y2 = previous_block[3]\n",
    "    curr_y1 = current_block[1]\n",
    "    difference = curr_y1 - prev_y2\n",
    "    print(prev_y2,curr_y1,difference)\n",
    "    if difference <= 2.5:\n",
    "        return True\n",
    "    else:\n",
    "        return False"
   ]
  },
  {
   "cell_type": "code",
   "execution_count": 64,
   "metadata": {},
   "outputs": [
    {
     "name": "stdout",
     "output_type": "stream",
     "text": [
      "1\n",
      "(295.0299987792969, 787.21484375, 303.30999755859375, 801.9421997070312)\n",
      "(56.66400146484375, 78.49420166015625, 274.9900207519531, 93.78459930419922)\n",
      "801.9421997070312 78.49420166015625 -723.447998046875\n",
      "True\n",
      "1 BASE PROSPECTUS DATED 10 JULY 2018\n",
      " \n",
      "(56.66400146484375, 78.49420166015625, 303.30999755859375, 801.9421997070312)\n",
      "(265.3699951171875, 165.9742431640625, 332.5899963378906, 181.26463317871094)\n",
      "801.9421997070312 165.9742431640625 -635.9679565429688\n",
      "True\n",
      "1 BASE PROSPECTUS DATED 10 JULY 2018 AEGON N.V.\n",
      " \n",
      "(56.66400146484375, 78.49420166015625, 332.5899963378906, 801.9421997070312)\n",
      "(177.52999877929688, 178.5948486328125, 420.46002197265625, 193.32220458984375)\n",
      "801.9421997070312 178.5948486328125 -623.3473510742188\n",
      "True\n",
      "1 BASE PROSPECTUS DATED 10 JULY 2018 AEGON N.V. ( incorporated with limited liability in The Netherlands\n",
      " \n",
      "(56.66400146484375, 78.49420166015625, 420.46002197265625, 801.9421997070312)\n",
      "(199.97000122070312, 191.55487060546875, 398.02001953125, 206.2822265625)\n",
      "801.9421997070312 191.55487060546875 -610.3873291015625\n",
      "True\n",
      "1 BASE PROSPECTUS DATED 10 JULY 2018 AEGON N.V. ( incorporated with limited liability in The Netherlands and having its corporate seat in The Hague )\n",
      " \n",
      "(56.66400146484375, 78.49420166015625, 420.46002197265625, 801.9421997070312)\n",
      "(289.75, 217.5948486328125, 308.3500061035156, 232.32220458984375)\n",
      "801.9421997070312 217.5948486328125 -584.3473510742188\n",
      "True\n",
      "1 BASE PROSPECTUS DATED 10 JULY 2018 AEGON N.V. ( incorporated with limited liability in The Netherlands and having its corporate seat in The Hague ) and\n",
      " \n",
      "(56.66400146484375, 78.49420166015625, 420.46002197265625, 801.9421997070312)\n",
      "(207.64999389648438, 244.00421142578125, 390.46002197265625, 259.29461669921875)\n",
      "801.9421997070312 244.00421142578125 -557.93798828125\n",
      "True\n",
      "1 BASE PROSPECTUS DATED 10 JULY 2018 AEGON N.V. ( incorporated with limited liability in The Netherlands and having its corporate seat in The Hague ) and AEGON FUNDING COMPANY LLC\n",
      " \n",
      "(56.66400146484375, 78.49420166015625, 420.46002197265625, 801.9421997070312)\n",
      "(170.92999267578125, 256.6248779296875, 429.82000732421875, 284.31219482421875)\n",
      "801.9421997070312 256.6248779296875 -545.3173217773438\n",
      "True\n",
      "1 BASE PROSPECTUS DATED 10 JULY 2018 AEGON N.V. ( incorporated with limited liability in The Netherlands and having its corporate seat in The Hague ) and AEGON FUNDING COMPANY LLC ( organised under the laws of the State of Delaware, USA, and having its corporate seat in Wilmington, Delaware )\n",
      " \n",
      "(56.66400146484375, 78.49420166015625, 429.82000732421875, 801.9421997070312)\n",
      "(266.57000732421875, 295.6248779296875, 331.3900146484375, 310.35223388671875)\n",
      "801.9421997070312 295.6248779296875 -506.31732177734375\n",
      "True\n",
      "1 BASE PROSPECTUS DATED 10 JULY 2018 AEGON N.V. ( incorporated with limited liability in The Netherlands and having its corporate seat in The Hague ) and AEGON FUNDING COMPANY LLC ( organised under the laws of the State of Delaware, USA, and having its corporate seat in Wilmington, Delaware ) guaranteed by\n",
      " \n",
      "(56.66400146484375, 78.49420166015625, 429.82000732421875, 801.9421997070312)\n",
      "(265.3699951171875, 322.00421142578125, 332.5899963378906, 337.29461669921875)\n",
      "801.9421997070312 322.00421142578125 -479.93798828125\n",
      "True\n",
      "1 BASE PROSPECTUS DATED 10 JULY 2018 AEGON N.V. ( incorporated with limited liability in The Netherlands and having its corporate seat in The Hague ) and AEGON FUNDING COMPANY LLC ( organised under the laws of the State of Delaware, USA, and having its corporate seat in Wilmington, Delaware ) guaranteed by AEGON N.V.\n",
      " \n",
      "(56.66400146484375, 78.49420166015625, 429.82000732421875, 801.9421997070312)\n",
      "(177.52999877929688, 334.6248474121094, 420.46002197265625, 349.3522033691406)\n",
      "801.9421997070312 334.6248474121094 -467.3173522949219\n",
      "True\n",
      "1 BASE PROSPECTUS DATED 10 JULY 2018 AEGON N.V. ( incorporated with limited liability in The Netherlands and having its corporate seat in The Hague ) and AEGON FUNDING COMPANY LLC ( organised under the laws of the State of Delaware, USA, and having its corporate seat in Wilmington, Delaware ) guaranteed by AEGON N.V. ( incorporated with limited liability in The Netherlands\n",
      " \n",
      "(56.66400146484375, 78.49420166015625, 429.82000732421875, 801.9421997070312)\n",
      "(199.97000122070312, 347.5848693847656, 398.02001953125, 362.9746398925781)\n",
      "801.9421997070312 347.5848693847656 -454.3573303222656\n",
      "True\n",
      "1 BASE PROSPECTUS DATED 10 JULY 2018 AEGON N.V. ( incorporated with limited liability in The Netherlands and having its corporate seat in The Hague ) and AEGON FUNDING COMPANY LLC ( organised under the laws of the State of Delaware, USA, and having its corporate seat in Wilmington, Delaware ) guaranteed by AEGON N.V. ( incorporated with limited liability in The Netherlands and having its corporate seat in The Hague )\n",
      " \n",
      "(56.66400146484375, 78.49420166015625, 429.82000732421875, 801.9421997070312)\n",
      "(252.41000366210938, 373.00421142578125, 345.5500183105469, 388.29461669921875)\n",
      "801.9421997070312 373.00421142578125 -428.93798828125\n",
      "True\n",
      "1 BASE PROSPECTUS DATED 10 JULY 2018 AEGON N.V. ( incorporated with limited liability in The Netherlands and having its corporate seat in The Hague ) and AEGON FUNDING COMPANY LLC ( organised under the laws of the State of Delaware, USA, and having its corporate seat in Wilmington, Delaware ) guaranteed by AEGON N.V. ( incorporated with limited liability in The Netherlands and having its corporate seat in The Hague ) Programme for the\n",
      " \n",
      "(56.66400146484375, 78.49420166015625, 429.82000732421875, 801.9421997070312)\n",
      "(228.64999389648438, 385.9842224121094, 369.30999755859375, 401.2746276855469)\n",
      "801.9421997070312 385.9842224121094 -415.9579772949219\n",
      "True\n",
      "1 BASE PROSPECTUS DATED 10 JULY 2018 AEGON N.V. ( incorporated with limited liability in The Netherlands and having its corporate seat in The Hague ) and AEGON FUNDING COMPANY LLC ( organised under the laws of the State of Delaware, USA, and having its corporate seat in Wilmington, Delaware ) guaranteed by AEGON N.V. ( incorporated with limited liability in The Netherlands and having its corporate seat in The Hague ) Programme for the Issuance of Debt Instruments\n",
      " \n",
      "(56.66400146484375, 78.49420166015625, 429.82000732421875, 801.9421997070312)\n",
      "(56.66400146484375, 410.6048583984375, 541.4400024414062, 503.33221435546875)\n",
      "801.9421997070312 410.6048583984375 -391.33734130859375\n",
      "True\n",
      "1 BASE PROSPECTUS DATED 10 JULY 2018 AEGON N.V. ( incorporated with limited liability in The Netherlands and having its corporate seat in The Hague ) and AEGON FUNDING COMPANY LLC ( organised under the laws of the State of Delaware, USA, and having its corporate seat in Wilmington, Delaware ) guaranteed by AEGON N.V. ( incorporated with limited liability in The Netherlands and having its corporate seat in The Hague ) Programme for the Issuance of Debt Instruments Under this Programme for the Issuance of Debt Instruments (the Programme ), each of Aegon N.V. ( Aegon and, together with its consolidated subsidiaries, Aegon Group ) and Aegon Funding Company LLC ( AFC and each an Issuer and together the Issuers ) may from time to time issue Notes ( Notes , which expression shall include Senior Notes and Subordinated Notes (each as defined in \" Terms and Conditions of the Notes” )) denominated in any currency agreed between the Issuer and the relevant Dealer (as defined below). Subordinated Notes will have a minimum denomination of at least EUR 100,000 (or its equivalent in any other currency).\n",
      " \n",
      "(56.66400146484375, 78.49420166015625, 541.4400024414062, 801.9421997070312)\n",
      "(56.66400146484375, 513.6848754882812, 541.245361328125, 542.03466796875)\n",
      "801.9421997070312 513.6848754882812 -288.25732421875\n",
      "True\n",
      "1 BASE PROSPECTUS DATED 10 JULY 2018 AEGON N.V. ( incorporated with limited liability in The Netherlands and having its corporate seat in The Hague ) and AEGON FUNDING COMPANY LLC ( organised under the laws of the State of Delaware, USA, and having its corporate seat in Wilmington, Delaware ) guaranteed by AEGON N.V. ( incorporated with limited liability in The Netherlands and having its corporate seat in The Hague ) Programme for the Issuance of Debt Instruments Under this Programme for the Issuance of Debt Instruments (the Programme ), each of Aegon N.V. ( Aegon and, together with its consolidated subsidiaries, Aegon Group ) and Aegon Funding Company LLC ( AFC and each an Issuer and together the Issuers ) may from time to time issue Notes ( Notes , which expression shall include Senior Notes and Subordinated Notes (each as defined in \" Terms and Conditions of the Notes” )) denominated in any currency agreed between the Issuer and the relevant Dealer (as defined below). Subordinated Notes will have a minimum denomination of at least EUR 100,000 (or its equivalent in any other currency). Notes issued by AFC will have the benefit of a guarantee by Aegon in its capacity as guarantor (the Guarantor ).\n",
      " \n",
      "(56.66400146484375, 78.49420166015625, 541.4400024414062, 801.9421997070312)\n",
      "(56.66400146484375, 551.6348876953125, 541.3632202148438, 618.4421997070312)\n",
      "801.9421997070312 551.6348876953125 -250.30731201171875\n",
      "True\n",
      "1 BASE PROSPECTUS DATED 10 JULY 2018 AEGON N.V. ( incorporated with limited liability in The Netherlands and having its corporate seat in The Hague ) and AEGON FUNDING COMPANY LLC ( organised under the laws of the State of Delaware, USA, and having its corporate seat in Wilmington, Delaware ) guaranteed by AEGON N.V. ( incorporated with limited liability in The Netherlands and having its corporate seat in The Hague ) Programme for the Issuance of Debt Instruments Under this Programme for the Issuance of Debt Instruments (the Programme ), each of Aegon N.V. ( Aegon and, together with its consolidated subsidiaries, Aegon Group ) and Aegon Funding Company LLC ( AFC and each an Issuer and together the Issuers ) may from time to time issue Notes ( Notes , which expression shall include Senior Notes and Subordinated Notes (each as defined in \" Terms and Conditions of the Notes” )) denominated in any currency agreed between the Issuer and the relevant Dealer (as defined below). Subordinated Notes will have a minimum denomination of at least EUR 100,000 (or its equivalent in any other currency). Notes issued by AFC will have the benefit of a guarantee by Aegon in its capacity as guarantor (the Guarantor ). The maximum aggregate nominal amount of all instruments from time to time outstanding under the Programme, which includes Notes issued under the Programme and EUR 200,000,000 fixed rate perpetual capital securities (ISIN: NL0000168466), will not exceed US$ 6,000,000,000 (or its equivalent in other currencies calculated as described in the Programme Agreement described herein), subject to increase as described herein.\n",
      " \n",
      "(56.66400146484375, 78.49420166015625, 541.4400024414062, 801.9421997070312)\n",
      "(56.66400146484375, 628.6748657226562, 541.4207763671875, 708.4421997070312)\n",
      "801.9421997070312 628.6748657226562 -173.267333984375\n",
      "True\n",
      "1 BASE PROSPECTUS DATED 10 JULY 2018 AEGON N.V. ( incorporated with limited liability in The Netherlands and having its corporate seat in The Hague ) and AEGON FUNDING COMPANY LLC ( organised under the laws of the State of Delaware, USA, and having its corporate seat in Wilmington, Delaware ) guaranteed by AEGON N.V. ( incorporated with limited liability in The Netherlands and having its corporate seat in The Hague ) Programme for the Issuance of Debt Instruments Under this Programme for the Issuance of Debt Instruments (the Programme ), each of Aegon N.V. ( Aegon and, together with its consolidated subsidiaries, Aegon Group ) and Aegon Funding Company LLC ( AFC and each an Issuer and together the Issuers ) may from time to time issue Notes ( Notes , which expression shall include Senior Notes and Subordinated Notes (each as defined in \" Terms and Conditions of the Notes” )) denominated in any currency agreed between the Issuer and the relevant Dealer (as defined below). Subordinated Notes will have a minimum denomination of at least EUR 100,000 (or its equivalent in any other currency). Notes issued by AFC will have the benefit of a guarantee by Aegon in its capacity as guarantor (the Guarantor ). The maximum aggregate nominal amount of all instruments from time to time outstanding under the Programme, which includes Notes issued under the Programme and EUR 200,000,000 fixed rate perpetual capital securities (ISIN: NL0000168466), will not exceed US$ 6,000,000,000 (or its equivalent in other currencies calculated as described in the Programme Agreement described herein), subject to increase as described herein. The Notes may be issued on a continuing basis to one or more of the Dealers specified under \" Summary of the Programme \" and any additional Dealer appointed under the Programme from time to time by the Issuer (each a Dealer  and together the Dealers ), which appointment may be for a specific issue or on an ongoing basis. References in this Base Prospectus to the relevant Dealer  shall, in the case of an issue of Dealers being (or intended to be) subscribed by more than one Dealer, be to all Dealers agreeing to subscribe such Notes.\n",
      " \n",
      "(56.66400146484375, 78.49420166015625, 541.4400024414062, 801.9421997070312)\n",
      "(56.66400146484375, 718.6948852539062, 541.378662109375, 746.3822021484375)\n",
      "801.9421997070312 718.6948852539062 -83.247314453125\n",
      "True\n",
      "1 BASE PROSPECTUS DATED 10 JULY 2018 AEGON N.V. ( incorporated with limited liability in The Netherlands and having its corporate seat in The Hague ) and AEGON FUNDING COMPANY LLC ( organised under the laws of the State of Delaware, USA, and having its corporate seat in Wilmington, Delaware ) guaranteed by AEGON N.V. ( incorporated with limited liability in The Netherlands and having its corporate seat in The Hague ) Programme for the Issuance of Debt Instruments Under this Programme for the Issuance of Debt Instruments (the Programme ), each of Aegon N.V. ( Aegon and, together with its consolidated subsidiaries, Aegon Group ) and Aegon Funding Company LLC ( AFC and each an Issuer and together the Issuers ) may from time to time issue Notes ( Notes , which expression shall include Senior Notes and Subordinated Notes (each as defined in \" Terms and Conditions of the Notes” )) denominated in any currency agreed between the Issuer and the relevant Dealer (as defined below). Subordinated Notes will have a minimum denomination of at least EUR 100,000 (or its equivalent in any other currency). Notes issued by AFC will have the benefit of a guarantee by Aegon in its capacity as guarantor (the Guarantor ). The maximum aggregate nominal amount of all instruments from time to time outstanding under the Programme, which includes Notes issued under the Programme and EUR 200,000,000 fixed rate perpetual capital securities (ISIN: NL0000168466), will not exceed US$ 6,000,000,000 (or its equivalent in other currencies calculated as described in the Programme Agreement described herein), subject to increase as described herein. The Notes may be issued on a continuing basis to one or more of the Dealers specified under \" Summary of the Programme \" and any additional Dealer appointed under the Programme from time to time by the Issuer (each a Dealer  and together the Dealers ), which appointment may be for a specific issue or on an ongoing basis. References in this Base Prospectus to the relevant Dealer  shall, in the case of an issue of Dealers being (or intended to be) subscribed by more than one Dealer, be to all Dealers agreeing to subscribe such Notes. An investment in the Notes issued under the Programme involves certain risks.  For a discussion of these risks see \" Risk Factors \".\n",
      " \n"
     ]
    }
   ],
   "source": [
    "initial = True\n",
    "for block in doc.loadPage(0).getText('dict')['blocks']:\n",
    "    if block['type'] == 0:\n",
    "        if initial:\n",
    "            block_text = ''\n",
    "            for line in block['lines']:\n",
    "                line_text = ''\n",
    "                for span in line['spans']:\n",
    "                    line_text = f\"{line_text} {span['text']}\".strip()\n",
    "                block_text = f'{block_text} {line_text}'.strip()\n",
    "            if len(block_text)==0:\n",
    "                pass\n",
    "            else:\n",
    "                initial = False\n",
    "                previous_block_bbox = block['bbox']\n",
    "                previous_block_text = block_text\n",
    "                print(previous_block_text)\n",
    "        else:\n",
    "            block_text = ''\n",
    "            for line in block['lines']:\n",
    "                line_text = ''\n",
    "                for span in line['spans']:\n",
    "                    line_text = f\"{line_text} {span['text']}\".strip()\n",
    "                block_text = f'{block_text} {line_text}'.strip()\n",
    "            if len(block_text)==0:\n",
    "                pass\n",
    "            else:\n",
    "                current_block_bbox = block['bbox']\n",
    "                print(previous_block_bbox)\n",
    "                print(current_block_bbox)\n",
    "                determined_value = block_merge_determiner(previous_block_bbox,current_block_bbox)\n",
    "                print(determined_value)\n",
    "                if determined_value:\n",
    "                    block_text = f\"{previous_block_text} {block_text}\"\n",
    "                    x1 = min(previous_block_bbox[0],current_block_bbox[0])\n",
    "                    y1= min(previous_block_bbox[1],current_block_bbox[1])\n",
    "                    x2= max(previous_block_bbox[2],current_block_bbox[2])\n",
    "                    y2= max(previous_block_bbox[3],current_block_bbox[3])\n",
    "                    current_block_bbox = (x1,y1,x2,y2)\n",
    "                previous_block_text = block_text\n",
    "                previous_block_bbox = current_block_bbox\n",
    "                print(previous_block_text)\n",
    "                print(' ')"
   ]
  },
  {
   "cell_type": "code",
   "execution_count": null,
   "metadata": {},
   "outputs": [],
   "source": []
  },
  {
   "cell_type": "code",
   "execution_count": 31,
   "metadata": {},
   "outputs": [
    {
     "data": {
      "text/plain": [
       "True"
      ]
     },
     "execution_count": 31,
     "metadata": {},
     "output_type": "execute_result"
    }
   ],
   "source": [
    "block_merge_determiner(x,y)"
   ]
  },
  {
   "cell_type": "code",
   "execution_count": null,
   "metadata": {},
   "outputs": [],
   "source": []
  }
 ],
 "metadata": {
  "kernelspec": {
   "display_name": "Python 3",
   "language": "python",
   "name": "python3"
  },
  "language_info": {
   "codemirror_mode": {
    "name": "ipython",
    "version": 3
   },
   "file_extension": ".py",
   "mimetype": "text/x-python",
   "name": "python",
   "nbconvert_exporter": "python",
   "pygments_lexer": "ipython3",
   "version": "3.7.6"
  }
 },
 "nbformat": 4,
 "nbformat_minor": 4
}
