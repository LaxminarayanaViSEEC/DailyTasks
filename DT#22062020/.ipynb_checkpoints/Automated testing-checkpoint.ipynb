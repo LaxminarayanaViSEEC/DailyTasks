{
 "cells": [
  {
   "cell_type": "code",
   "execution_count": 25,
   "metadata": {},
   "outputs": [],
   "source": [
    "import requests\n",
    "import json\n",
    "import os"
   ]
  },
  {
   "cell_type": "code",
   "execution_count": 23,
   "metadata": {},
   "outputs": [],
   "source": [
    "url_split = 'http://localhost:9082/idxocr/split-pdf'\n",
    "url_file = 'http://localhost:9082/idxocr/find-table-structure'"
   ]
  },
  {
   "cell_type": "code",
   "execution_count": 24,
   "metadata": {},
   "outputs": [],
   "source": [
    "split_data = {\"file_path\":\"Sample 10.pdf\"}"
   ]
  },
  {
   "cell_type": "code",
   "execution_count": 30,
   "metadata": {},
   "outputs": [],
   "source": [
    "r = json.loads(requests.post(url_split,data=json.dumps(mydata)).text)"
   ]
  },
  {
   "cell_type": "code",
   "execution_count": 28,
   "metadata": {},
   "outputs": [],
   "source": [
    "def automate_function(file_name,\n",
    "                      url_split='http://localhost:9082/idxocr/split-pdf',\n",
    "                     url_file = 'http://localhost:9082/idxocr/find-table-structure'):\n",
    "    \n",
    "    split_data = {\"file_path\": file_name}\n",
    "    req = requests.post(url_split,data=json.dumps(mydata))\n",
    "    req = json.loads(req.text)\n",
    "    paths =[path['dest_path'] for path in req['paths']]\n",
    "    for path in paths:\n",
    "        file_data = {\"file_path\" : path}\n",
    "        file_req = requests.post(url_file, data=json.dumps(file_data))\n",
    "        if file_req.status_code == 200:\n",
    "            print(f'Status 200 for {file_name} in path ===> {path}')\n",
    "        # file_req = json.loads(file_req.text)\n",
    "        else:\n",
    "            print(f'Error occured in {file_name} in path ===> {path}')"
   ]
  },
  {
   "cell_type": "code",
   "execution_count": 29,
   "metadata": {},
   "outputs": [
    {
     "name": "stdout",
     "output_type": "stream",
     "text": [
      "['Sample 10/ad6c9dd7-acca-41b9-8596-6857043376bb-1.jpg', 'Sample 10/ad6c9dd7-acca-41b9-8596-6857043376bb-2.jpg']\n"
     ]
    }
   ],
   "source": [
    "automate_function('Sample 10.pdf')"
   ]
  },
  {
   "cell_type": "code",
   "execution_count": 33,
   "metadata": {},
   "outputs": [],
   "source": [
    "r = requests.post(url_split,data=json.dumps(mydata))"
   ]
  },
  {
   "cell_type": "code",
   "execution_count": 37,
   "metadata": {},
   "outputs": [
    {
     "data": {
      "text/plain": [
       "200"
      ]
     },
     "execution_count": 37,
     "metadata": {},
     "output_type": "execute_result"
    }
   ],
   "source": [
    "r.status_code"
   ]
  },
  {
   "cell_type": "code",
   "execution_count": null,
   "metadata": {},
   "outputs": [],
   "source": []
  }
 ],
 "metadata": {
  "kernelspec": {
   "display_name": "Python 3",
   "language": "python",
   "name": "python3"
  },
  "language_info": {
   "codemirror_mode": {
    "name": "ipython",
    "version": 3
   },
   "file_extension": ".py",
   "mimetype": "text/x-python",
   "name": "python",
   "nbconvert_exporter": "python",
   "pygments_lexer": "ipython3",
   "version": "3.7.6"
  }
 },
 "nbformat": 4,
 "nbformat_minor": 4
}
