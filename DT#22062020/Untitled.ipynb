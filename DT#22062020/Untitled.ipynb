{
 "cells": [
  {
   "cell_type": "code",
   "execution_count": 5,
   "metadata": {},
   "outputs": [],
   "source": [
    "x={'Left':0,\n",
    "  'Top':0,\n",
    "  'Width':10,\n",
    "  'Height':10}\n",
    "\n",
    "y={'Left':0,\n",
    "  'Top':0,\n",
    "  'Width':10,\n",
    "  'Height':10}"
   ]
  },
  {
   "cell_type": "code",
   "execution_count": 6,
   "metadata": {},
   "outputs": [],
   "source": [
    "def inside_justifier(bbox_1,bbox_2):\n",
    "    bbox_1_left = bbox_1['Left']\n",
    "    bbox_1_top = bbox_1['Top']\n",
    "    bbox_1_right = bbox_1['Left'] + bbox_1['Width']\n",
    "    bbox_1_bottom = bbox_1['Top'] + bbox_1['Height']\n",
    "    \n",
    "    bbox_2_left = bbox_2['Left']\n",
    "    bbox_2_top = bbox_2['Top']\n",
    "    bbox_2_right = bbox_2['Left'] + bbox_2['Width']\n",
    "    bbox_2_bottom = bbox_2['Top'] + bbox_2['Height']\n",
    "    \n",
    "    if (bbox_1_left <= bbox_2_left) and (bbox_1_top <= bbox_2_top):\n",
    "        if (bbox_1_right >= bbox_2_right) and (bbox_1_bottom >= bbox_2_bottom):\n",
    "            return True\n",
    "    return False"
   ]
  },
  {
   "cell_type": "code",
   "execution_count": 7,
   "metadata": {},
   "outputs": [
    {
     "data": {
      "text/plain": [
       "True"
      ]
     },
     "execution_count": 7,
     "metadata": {},
     "output_type": "execute_result"
    }
   ],
   "source": [
    "inside_justifier(x,y)"
   ]
  },
  {
   "cell_type": "code",
   "execution_count": null,
   "metadata": {},
   "outputs": [],
   "source": []
  }
 ],
 "metadata": {
  "kernelspec": {
   "display_name": "Python 3",
   "language": "python",
   "name": "python3"
  },
  "language_info": {
   "codemirror_mode": {
    "name": "ipython",
    "version": 3
   },
   "file_extension": ".py",
   "mimetype": "text/x-python",
   "name": "python",
   "nbconvert_exporter": "python",
   "pygments_lexer": "ipython3",
   "version": "3.7.6"
  }
 },
 "nbformat": 4,
 "nbformat_minor": 4
}
