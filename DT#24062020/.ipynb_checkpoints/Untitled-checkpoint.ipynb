{
 "cells": [
  {
   "cell_type": "code",
   "execution_count": 1,
   "metadata": {},
   "outputs": [],
   "source": [
    "path = 'D:\\\\iDX\\\\dataset\\\\voda.pdf'"
   ]
  },
  {
   "cell_type": "code",
   "execution_count": 2,
   "metadata": {},
   "outputs": [],
   "source": [
    "import fitz\n",
    "from operator import itemgetter\n",
    "import pandas as pd"
   ]
  },
  {
   "cell_type": "code",
   "execution_count": 3,
   "metadata": {},
   "outputs": [],
   "source": [
    "doc=fitz.open(path)"
   ]
  },
  {
   "cell_type": "code",
   "execution_count": 4,
   "metadata": {},
   "outputs": [],
   "source": [
    "blocks = doc.loadPage(8).getText('blocks')"
   ]
  },
  {
   "cell_type": "code",
   "execution_count": 5,
   "metadata": {},
   "outputs": [],
   "source": [
    "blocks = sorted(blocks , key= itemgetter(1,0))"
   ]
  },
  {
   "cell_type": "code",
   "execution_count": 6,
   "metadata": {},
   "outputs": [],
   "source": [
    "df = pd.DataFrame(blocks)"
   ]
  },
  {
   "cell_type": "code",
   "execution_count": 7,
   "metadata": {},
   "outputs": [
    {
     "name": "stdout",
     "output_type": "stream",
     "text": [
      "0 == 07\n",
      "Vodafone Group Plc  \n",
      "Annual Report 2019 \n",
      "1 == Overview\n",
      "2 == Strategic Report\n",
      "3 == Governance\n",
      "4 == Financials\n",
      "5 == Other information\n",
      "6 == Where we operate \n",
      "7 == We manage our business across two geographic regions –  \n",
      "Europe, and Rest of the World (‘RoW’)\n",
      "8 == Operations in 25 countries\n",
      "9 == We are the number one or two mobile operator  \n",
      "in most of our operations and we are Europe’s  \n",
      "largest NGN provider.\n",
      "10 == Europe\n",
      "Fixed and mobile in 11 out of 13 markets.\n",
      "11 == Albania1, Czech Republic, Germany, Greece, Hungary1, Ireland, Italy,  \n",
      "Malta, Netherlands (joint venture). Portugal, Romania, Spain, UK.\n",
      "12 == Rest of the world\n",
      "4G in all markets, M-Pesa in 8 out of 12 markets.\n",
      "13 == Emerging: Egypt2, Ghana2, Turkey, Vodacom Group (South Africa,  \n",
      "Tanzania2, Democratic Republic of Congo2,, Mozambique2, Lesotho2).  \n",
      "Other: New Zealand, Australia (joint venture), India2 (joint venture), \n",
      "Kenya2 (associate). \n",
      "14 ==  Europe \n",
      " Rest of the World \n",
      " Joint Ventures and Associates\n",
      "15 ==  \n",
      "Notes:  \n",
      "1 Mobile services only. 2 M-Pesa services available.\n",
      "16 == Worldwide service reach\n",
      "41\n",
      "partner markets \n",
      "To extend our reach beyond the companies \n",
      "we own, we have partnership agreements \n",
      "with local operators in 41 countries.\n",
      "74\n",
      "countries with IP-VPN \n",
      "We are among the top five internet  \n",
      "providers globally and one of the largest \n",
      "operators of submarine cables. \n",
      "168\n",
      "countries with 4G roaming coverage \n",
      "Our leading global 4G roaming footprint \n",
      "serves twice as many destinations as the next \n",
      "best local competitor in most of our markets.\n",
      "17 == Group service revenues (IAS 18 basis)\n",
      "18 == Our main markets and joint ventures (IAS 18 basis)\n",
      "19 == Europe\n",
      "76%\n",
      "20 == Rest of the World\n",
      "22%\n",
      "21 == Mobile \n",
      "revenue \n",
      "market  \n",
      "share \n",
      "(%)8\n",
      "22 == Fixed  \n",
      "revenue \n",
      "market  \n",
      "share \n",
      "(%)8\n",
      "23 == Fixed \n",
      "broadband \n",
      "customers \n",
      "(m)\n",
      "24 == Consumer \n",
      "converged \n",
      "customers \n",
      " (m)\n",
      "25 == Mobile \n",
      " customers \n",
      "(m)\n",
      "26 == Convergence \n",
      "penetration\n",
      "(%)9\n",
      "27 == Germany 29.5 33.6 6.9 21.4 1.5 20.2\n",
      "28 == Vodacom \n",
      "€4.7bn\n",
      "Germany \n",
      "€10.3bn\n",
      "29 == UK 17.2 21.3 0.6 6.8 0.3 57.0\n",
      "30 == Other  \n",
      "markets6 \n",
      "€4.0bn\n",
      "31 == Italy 21.0 31.1 2.8 9.3 1.0 41.4\n",
      "32 == €39bn\n",
      "33 == Spain 13.7 17.47\n",
      "3.2 17.47 2.3 91.4\n",
      "34 == Other  \n",
      "Europe5 \n",
      "€4.6bn\n",
      "35 == UK \n",
      "€5.8bn\n",
      "36 == South Africa\n",
      "52.7 46.310\n",
      "0.03 – – –\n",
      "37 == Spain \n",
      "€4.3bn\n",
      "38 == Italy \n",
      "€5.0bn\n",
      "39 == Joint ventures\n",
      "40 == Other\n",
      "2%\n",
      "41 == Vodafone Idea 334.1 31.5 0.3 – – –\n",
      "42 == €0.5bn  \n",
      "(includes partner markets \n",
      "and common functions)4\n",
      "43 == VodafoneZiggo 5.0 27.6 3.3 40.5 1.1 31.9\n",
      "44 == Notes:\n",
      "4 Common functions includes revenue from services provided centrally \n",
      "or offered outside our operating company footprint, including some \n",
      "markets where we have a licensed network operation, for example offering \n",
      "IP-VPN services in Singapore.\n",
      "5 Other Europe including eliminations.\n",
      "6 Other markets including eliminations.\n",
      "45 == Notes:\n",
      "7 Due to the converged nature of the Spanish market only total communications market shares are reported.\n",
      "8 As at December 2018.\n",
      "9 % of consumer broadband customer base that is converged.\n",
      "10 On an IFRS15 basis.\n"
     ]
    }
   ],
   "source": [
    "for i,j in df.iterrows():\n",
    "    print(i,'==',j[4])"
   ]
  },
  {
   "cell_type": "code",
   "execution_count": 8,
   "metadata": {},
   "outputs": [],
   "source": [
    "df = df.loc[df.index[8:17]]"
   ]
  },
  {
   "cell_type": "code",
   "execution_count": 9,
   "metadata": {},
   "outputs": [
    {
     "name": "stdout",
     "output_type": "stream",
     "text": [
      "Operations in 25 countriesHeading\n",
      "We are the number one or two mobile operator  \n",
      "in most of our operations and we are Europe’s  \n",
      "largest NGN provider.Paragraph\n",
      "Europe\n",
      "Fixed and mobile in 11 out of 13 markets.Heading\n",
      "Albania1, Czech Republic, Germany, Greece, Hungary1, Ireland, Italy,  \n",
      "Malta, Netherlands (joint venture). Portugal, Romania, Spain, UK.Paragraph\n",
      "Rest of the world\n",
      "4G in all markets, M-Pesa in 8 out of 12 markets.Heading\n",
      "Emerging: Egypt2, Ghana2, Turkey, Vodacom Group (South Africa,  \n",
      "Tanzania2, Democratic Republic of Congo2,, Mozambique2, Lesotho2).  \n",
      "Other: New Zealand, Australia (joint venture), India2 (joint venture), \n",
      "Kenya2 (associate). paragraph\n",
      " Europe \n",
      " Rest of the World \n",
      " Joint Ventures and Associateslist\n",
      " \n",
      "Notes:  \n",
      "1 Mobile services only. 2 M-Pesa services available.list\n",
      "Worldwide service reach\n",
      "41\n",
      "partner markets \n",
      "To extend our reach beyond the companies \n",
      "we own, we have partnership agreements \n",
      "with local operators in 41 countries.\n",
      "74\n",
      "countries with IP-VPN \n",
      "We are among the top five internet  \n",
      "providers globally and one of the largest \n",
      "operators of submarine cables. \n",
      "168\n",
      "countries with 4G roaming coverage \n",
      "Our leading global 4G roaming footprint \n",
      "serves twice as many destinations as the next \n",
      "best local competitor in most of our markets.paragraph\n"
     ]
    }
   ],
   "source": [
    "json = []\n",
    "for i,j in df.iterrows():\n",
    "    b_type = input(f'{j[4]}')\n",
    "    {'BoundingBox':[{'Left':j[0],\n",
    "                         'Top':j[1],\n",
    "                         'Width':j[2]-j[0],\n",
    "                         'Height':j[3]-j[1]}],\n",
    "         'Type':'Block',\n",
    "         'Block_No':j[5],\n",
    "         'Text':j[4],\n",
    "         'BlockType':b_type,\n",
    "         'Child':[]}  "
   ]
  },
  {
   "cell_type": "code",
   "execution_count": null,
   "metadata": {},
   "outputs": [],
   "source": []
  }
 ],
 "metadata": {
  "kernelspec": {
   "display_name": "Python 3",
   "language": "python",
   "name": "python3"
  },
  "language_info": {
   "codemirror_mode": {
    "name": "ipython",
    "version": 3
   },
   "file_extension": ".py",
   "mimetype": "text/x-python",
   "name": "python",
   "nbconvert_exporter": "python",
   "pygments_lexer": "ipython3",
   "version": "3.7.6"
  }
 },
 "nbformat": 4,
 "nbformat_minor": 4
}
