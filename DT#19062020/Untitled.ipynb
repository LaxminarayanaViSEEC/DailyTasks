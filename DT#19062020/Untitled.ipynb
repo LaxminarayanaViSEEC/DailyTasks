{
 "cells": [
  {
   "cell_type": "code",
   "execution_count": 3,
   "metadata": {},
   "outputs": [],
   "source": [
    "import cv2\n",
    "import numpy as np"
   ]
  },
  {
   "cell_type": "code",
   "execution_count": 2,
   "metadata": {},
   "outputs": [],
   "source": [
    "img = cv2.imread(r'D:\\iDX_UNS\\idx_unstructured2\\src\\outputs\\Sample 4\\1f5c0c3b-744a-4c80-a2b0-51264748dc3a-1.jpg')"
   ]
  },
  {
   "cell_type": "code",
   "execution_count": 4,
   "metadata": {},
   "outputs": [],
   "source": [
    "bg = np.ones(img.shape,dtype = np.uint8)*255"
   ]
  },
  {
   "cell_type": "code",
   "execution_count": 6,
   "metadata": {},
   "outputs": [],
   "source": [
    "z=[29,1196,3485,1319]"
   ]
  },
  {
   "cell_type": "code",
   "execution_count": 7,
   "metadata": {},
   "outputs": [],
   "source": [
    "bg = cv2.rectangle(bg,(z[0],z[1]),(z[2]+z[0],z[3]+z[1]),color = (0,0,255), thickness=30)"
   ]
  },
  {
   "cell_type": "code",
   "execution_count": 13,
   "metadata": {},
   "outputs": [],
   "source": [
    "f_img=cv2.addWeighted(bg,0.3,img,0.7,0)"
   ]
  },
  {
   "cell_type": "code",
   "execution_count": 14,
   "metadata": {},
   "outputs": [
    {
     "data": {
      "text/plain": [
       "True"
      ]
     },
     "execution_count": 14,
     "metadata": {},
     "output_type": "execute_result"
    }
   ],
   "source": [
    "\n",
    "cv2.imwrite('test_1.jpg',f_img)"
   ]
  },
  {
   "cell_type": "code",
   "execution_count": 11,
   "metadata": {},
   "outputs": [],
   "source": [
    "cells = [{\n",
    "            \"BoundingBox\": {\n",
    "                \"Left\": 2203,\n",
    "                \"Top\": 2206,\n",
    "                \"Width\": 1281,\n",
    "                \"Height\": 81\n",
    "            },\n",
    "            \"Id\": \"352ef874-c3e8-4b2b-9167-ef15cb2afbe1\",\n",
    "            \"Type\": \"Cell\",\n",
    "            \"RowId\": 0,\n",
    "            \"ColId\": 2,\n",
    "            \"colSpan\": \"1\",\n",
    "            \"Child\": [\n",
    "                \"9fab872c-57a3-4973-b62c-836b6481cf9e\"\n",
    "            ],\n",
    "            \"Text\": \" tn = Transaction\",\n",
    "            \"Segments\": []\n",
    "        },\n",
    "        {\n",
    "            \"BoundingBox\": {\n",
    "                \"Left\": 64,\n",
    "                \"Top\": 2221,\n",
    "                \"Width\": 936,\n",
    "                \"Height\": 76\n",
    "            },\n",
    "            \"Id\": \"c4d1411c-f47c-46fb-8794-cf90c3ee9d01\",\n",
    "            \"Type\": \"Cell\",\n",
    "            \"RowId\": 0,\n",
    "            \"ColId\": 0,\n",
    "            \"colSpan\": \"1\",\n",
    "            \"Child\": [\n",
    "                \"074ea0dd-7b47-4d63-9be5-7e2d0b83f3e1\"\n",
    "            ],\n",
    "            \"Text\": \" COR/CORR = Correction\",\n",
    "            \"Segments\": []\n",
    "        },\n",
    "        {\n",
    "            \"BoundingBox\": {\n",
    "                \"Left\": 2201,\n",
    "                \"Top\": 2299,\n",
    "                \"Width\": 1278,\n",
    "                \"Height\": 78\n",
    "            },\n",
    "            \"Id\": \"2fafa88f-f90e-4649-a741-005eca025031\",\n",
    "            \"Type\": \"Cell\",\n",
    "            \"RowId\": 1,\n",
    "            \"ColId\": 2,\n",
    "            \"colSpan\": \"1\",\n",
    "            \"Child\": [\n",
    "                \"af750568-8380-4ad1-8074-b3601220bd92\"\n",
    "            ],\n",
    "            \"Text\": \" Wd! = Withdrawal\",\n",
    "            \"Segments\": []\n",
    "        },\n",
    "        {\n",
    "            \"BoundingBox\": {\n",
    "                \"Left\": 1024,\n",
    "                \"Top\": 2306,\n",
    "                \"Width\": 1158,\n",
    "                \"Height\": 81\n",
    "            },\n",
    "            \"Id\": \"ae429b46-54a8-442b-90b3-0553ba6d2594\",\n",
    "            \"Type\": \"Cell\",\n",
    "            \"RowId\": 1,\n",
    "            \"ColId\": 1,\n",
    "            \"colSpan\": \"1\",\n",
    "            \"Child\": [\n",
    "                \"8a42a04d-00db-47a3-8f77-619a6ec3de48\"\n",
    "            ],\n",
    "            \"Text\": \" P & T = Postage & Telegram\",\n",
    "            \"Segments\": []\n",
    "        },\n",
    "        {\n",
    "            \"BoundingBox\": {\n",
    "                \"Left\": 71,\n",
    "                \"Top\": 2314,\n",
    "                \"Width\": 934,\n",
    "                \"Height\": 73\n",
    "            },\n",
    "            \"Id\": \"5e605251-5db5-4da4-b555-ca743c6df67b\",\n",
    "            \"Type\": \"Cell\",\n",
    "            \"RowId\": 1,\n",
    "            \"ColId\": 0,\n",
    "            \"colSpan\": \"1\",\n",
    "            \"Child\": [\n",
    "                \"c903d6e7-3843-40c2-83a9-0e3e0ca182de\"\n",
    "            ],\n",
    "            \"Text\": \" CR = Credit\",\n",
    "            \"Segments\": []\n",
    "        },\n",
    "        {\n",
    "            \"BoundingBox\": {\n",
    "                \"Left\": 1026,\n",
    "                \"Top\": 2399,\n",
    "                \"Width\": 1153,\n",
    "                \"Height\": 91\n",
    "            },\n",
    "            \"Id\": \"ec739bd0-122f-408f-87c5-499ee58cf937\",\n",
    "            \"Type\": \"Cell\",\n",
    "            \"RowId\": 2,\n",
    "            \"ColId\": 1,\n",
    "            \"colSpan\": \"1\",\n",
    "            \"Child\": [\n",
    "                \"f15a605f-40db-4343-80e6-9fdcef07606a\"\n",
    "            ],\n",
    "            \"Text\": \" Pos = Point of sale\",\n",
    "            \"Segments\": []\n",
    "        },\n",
    "        {\n",
    "            \"BoundingBox\": {\n",
    "                \"Left\": 2199,\n",
    "                \"Top\": 2391,\n",
    "                \"Width\": 1270,\n",
    "                \"Height\": 91\n",
    "            },\n",
    "            \"Id\": \"5983c2d3-d5b9-4fbf-97c4-8d739b7571ea\",\n",
    "            \"Type\": \"Cell\",\n",
    "            \"RowId\": 2,\n",
    "            \"ColId\": 2,\n",
    "            \"colSpan\": \"1\",\n",
    "            \"Child\": [\n",
    "                \"7a7379c7-de68-4721-9581-16685f5331df\"\n",
    "            ],\n",
    "            \"Text\": \" +MOD bal = total balance (SB + linked MOD afc)\",\n",
    "            \"Segments\": []\n",
    "        },\n",
    "        {\n",
    "            \"BoundingBox\": {\n",
    "                \"Left\": 81,\n",
    "                \"Top\": 2404,\n",
    "                \"Width\": 929,\n",
    "                \"Height\": 86\n",
    "            },\n",
    "            \"Id\": \"9760ba58-aca4-43eb-a137-34ed160a47f0\",\n",
    "            \"Type\": \"Cell\",\n",
    "            \"RowId\": 2,\n",
    "            \"ColId\": 0,\n",
    "            \"colSpan\": \"1\",\n",
    "            \"Child\": [\n",
    "                \"02123a57-dbe3-43ac-898d-a1aa60274d88\",\n",
    "                \"afda6b42-6125-4f21-ae32-dfd5c3324a40\"\n",
    "            ],\n",
    "            \"Text\": \" csh = Cash |\",\n",
    "            \"Segments\": []\n",
    "        }]"
   ]
  },
  {
   "cell_type": "code",
   "execution_count": 12,
   "metadata": {},
   "outputs": [],
   "source": [
    "for z in cells:\n",
    "    z=list(z['BoundingBox'].values())\n",
    "    bg=cv2.rectangle(bg,(z[0],z[1]),(z[2]+z[0],z[3]+z[1]),color = (0,0,255), thickness=30)"
   ]
  },
  {
   "cell_type": "code",
   "execution_count": 15,
   "metadata": {},
   "outputs": [],
   "source": [
    "x=[\n",
    "                \"0087cc21-46c5-498b-9f49-064ef4409ed3\",\n",
    "                \"11fd452d-ee51-429e-a65b-e6253bbe19a5\",\n",
    "                \"6cc17f6e-37fa-445a-9f19-097f16495a6c\",\n",
    "                \"2af60de3-5ecb-463d-a237-b5065e1d8baf\",\n",
    "                \"269ebb76-a52b-40da-836c-3b5531296e37\",\n",
    "                \"91ffa9c3-edf1-4fff-957c-74faf2df83b2\",\n",
    "                \"38cee8c1-e3dc-4879-935a-c3845e3a61fe\",\n",
    "                \"983d9659-3d43-42c1-b279-e6c9549b17c2\",\n",
    "                \"f637f9e1-6ac0-4f21-9dff-b02564a1516c\",\n",
    "                \"c8e99fff-d170-44e5-9fdc-a97e2a5556f6\",\n",
    "                \"e4cc7da5-b7be-44ba-94af-41b000c869e5\",\n",
    "                \"a878f78c-253f-4e46-9adc-a0a9e4ffb9ec\",\n",
    "                \"8fdd2efd-784e-4bde-bd67-5a6d7acf4b58\",\n",
    "                \"3147b618-d1c6-45f5-80fd-d590c17d3db2\",\n",
    "                \"54c89fd0-a4fe-4fae-bd02-431f056bce41\",\n",
    "                \"f887d732-7ba7-432e-a393-86b27146b68e\",\n",
    "                \"21699762-db76-4c87-8249-10cd16fc67ae\",\n",
    "                \"3b846c01-c676-4ce4-a907-aa0f5b487efe\",\n",
    "                \"6fe5d487-4b78-4a92-8540-28d2993813fa\",\n",
    "                \"786eea0a-f4c6-4dd6-8ecc-8b44c8e9b46b\",\n",
    "                \"394dd023-85dc-4efc-bc42-14d6c124aff9\",\n",
    "                \"902ccb83-8f10-4ead-9c03-c76d85fa23ae\",\n",
    "                \"31d4b81c-352c-479e-9eb2-84c5590e8948\",\n",
    "                \"a7f605d4-027f-4cf0-9900-1c037c495aa9\",\n",
    "                \"35a6563b-2ac0-4584-bb7c-0b6b303585fc\",\n",
    "                \"049dc284-ebf7-4716-9b31-7df2a97ee171\",\n",
    "                \"5672d21a-b384-44fe-bc98-61f3f3319766\",\n",
    "                \"474c4dce-fa03-4135-a638-312cdf749b3d\",\n",
    "                \"8aa5ea1f-8979-4f7c-8340-c1fb0d6601b5\",\n",
    "                \"ee1ec6ef-9854-42ae-8d8d-61a70a8be1dd\",\n",
    "                \"e6d1a2d3-a08c-40af-8ef9-a80030171bd5\",\n",
    "                \"398f6b26-a8ee-4395-9885-dac7a756b72e\",\n",
    "                \"0a48c139-934a-4251-a8e9-02e0b8387a60\",\n",
    "                \"352ef874-c3e8-4b2b-9167-ef15cb2afbe1\",\n",
    "                \"c4d1411c-f47c-46fb-8794-cf90c3ee9d01\",\n",
    "                \"2fafa88f-f90e-4649-a741-005eca025031\",\n",
    "                \"ae429b46-54a8-442b-90b3-0553ba6d2594\",\n",
    "                \"5e605251-5db5-4da4-b555-ca743c6df67b\",\n",
    "                \"ec739bd0-122f-408f-87c5-499ee58cf937\",\n",
    "                \"5983c2d3-d5b9-4fbf-97c4-8d739b7571ea\",\n",
    "                \"9760ba58-aca4-43eb-a137-34ed160a47f0\"\n",
    "            ]"
   ]
  },
  {
   "cell_type": "code",
   "execution_count": 16,
   "metadata": {},
   "outputs": [
    {
     "data": {
      "text/plain": [
       "41"
      ]
     },
     "execution_count": 16,
     "metadata": {},
     "output_type": "execute_result"
    }
   ],
   "source": [
    "len(x)"
   ]
  },
  {
   "cell_type": "code",
   "execution_count": null,
   "metadata": {},
   "outputs": [],
   "source": []
  }
 ],
 "metadata": {
  "kernelspec": {
   "display_name": "Python 3",
   "language": "python",
   "name": "python3"
  },
  "language_info": {
   "codemirror_mode": {
    "name": "ipython",
    "version": 3
   },
   "file_extension": ".py",
   "mimetype": "text/x-python",
   "name": "python",
   "nbconvert_exporter": "python",
   "pygments_lexer": "ipython3",
   "version": "3.7.6"
  }
 },
 "nbformat": 4,
 "nbformat_minor": 4
}
