{
 "cells": [
  {
   "cell_type": "code",
   "execution_count": 1,
   "metadata": {},
   "outputs": [],
   "source": [
    "import json\n",
    "from operator import itemgetter"
   ]
  },
  {
   "cell_type": "code",
   "execution_count": 2,
   "metadata": {},
   "outputs": [],
   "source": [
    "path = r'D:\\iDX\\images and jsons\\813b12e8-7d2f-4245-aeca-7395bb3c41a1-1.json'"
   ]
  },
  {
   "cell_type": "code",
   "execution_count": 3,
   "metadata": {},
   "outputs": [],
   "source": [
    "with open(path, mode = 'r') as file_:\n",
    "    data=json.load(file_)"
   ]
  },
  {
   "cell_type": "code",
   "execution_count": 4,
   "metadata": {},
   "outputs": [],
   "source": [
    "def number_of_columns_calculator(data,child):\n",
    "    blocks = data['Blocks']\n",
    "    children = child['Child']\n",
    "    column_counter = 0\n",
    "    for child_ in children:\n",
    "        child_list = list(filter(lambda x: (x['Id']==child_),blocks))\n",
    "        for row in child_list:\n",
    "            if row['RowId']==0:\n",
    "                column_counter+=1\n",
    "    return column_counter"
   ]
  },
  {
   "cell_type": "code",
   "execution_count": 5,
   "metadata": {},
   "outputs": [],
   "source": [
    "def checking_horizontal_overlap(cords_1, cords_2):\n",
    "    # loading the cordinates to variables\n",
    "    left_1 = cords_1['Left']\n",
    "    top_1 = cords_1['Top']\n",
    "    right_1 = cords_1['Left'] + cords_1['Width']\n",
    "    bottom_1 = cords_1['Top'] + cords_1['Height']\n",
    "    width_1 = cords_1['Width']\n",
    "    width_2 = cords_2['Width']\n",
    "    left_2 = cords_2['Left']\n",
    "    top_2 = cords_2['Top']\n",
    "    right_2 = cords_2['Left'] + cords_2['Width']\n",
    "    bottom_2 = cords_2['Top'] + cords_2['Height']\n",
    "    \n",
    "    threshold_width_1 = width_1 * 0.9\n",
    "    threshold_width_2 = width_2 * 0.9\n",
    "    \n",
    "    #conditions for horizontal merge\n",
    "    # condition-1 exact same x coordinates\n",
    "    if (left_1 == left_2) and (right_1 == right_2):\n",
    "        return True\n",
    "    #Condition-2 widths are almost similar\n",
    "    elif (width_1 >= threshold_width_2) or (width_2 >= threshold_width_1):\n",
    "        return True\n",
    "    #condition-3 they are truley horizonatal overlap\n",
    "    elif (right_2 >= left_1 and bottom_2 >= top_1) or (right_1 >= left_2 and bottom_1 >= top_2):\n",
    "        return True\n",
    "    #no condition met so return \"No Overlap\"\n",
    "    else:\n",
    "        return False"
   ]
  },
  {
   "cell_type": "code",
   "execution_count": 6,
   "metadata": {},
   "outputs": [],
   "source": [
    "def table_merger(data):\n",
    "    table_child = list(filter(lambda x:(x['Type']=='Table'),data['Blocks']))\n",
    "    table_child = sorted(table_child,key=lambda x :(x['BoundingBox']['Top'],x['BoundingBox']['Left']))\n",
    "    \n",
    "    table_json = None\n",
    "    cell_json = None\n",
    "    ids_to_delete = []\n",
    "    prev = None\n",
    "\n",
    "    for block in table_child:\n",
    "        if prev == None:\n",
    "            prev = block\n",
    "            prev_ = block\n",
    "            # calculate the total number of columns\n",
    "            prev_cols = number_of_columns_calculator(data,prev)\n",
    "            row_no = 0 \n",
    "        else:\n",
    "            curr = block\n",
    "\n",
    "            # check for horizontal overlap\n",
    "            if checking_horizontal_overlap(prev_['BoundingBox'],curr['BoundingBox']):\n",
    "                prev_ = curr\n",
    "                # check for total number of columns\n",
    "                curr_cols = number_of_columns_calculator(data,curr)\n",
    "                if prev_cols == curr_cols:\n",
    "                    row_no += 1\n",
    "                    # merge the blocks\n",
    "                    if table_json==None:  \n",
    "                        cell_json = []\n",
    "                        for cell in prev['Child']:\n",
    "                            cell_json.extend(list(filter(lambda x:(x['Id']==cell),data['Blocks'])))\n",
    "\n",
    "                        prev['Child'].extend(curr['Child'])\n",
    "                        ids_to_delete.append(prev['Id'])\n",
    "                        ids_to_delete.extend(prev['Child'])\n",
    "                        table_json = {\n",
    "                            'Id': prev['Id'],\n",
    "                            'BoundingBox':{\n",
    "                                'Left': min(prev['BoundingBox']['Left'],curr['BoundingBox']['Left']),\n",
    "                                'Top' : min(prev['BoundingBox']['Top'],curr['BoundingBox']['Top']),\n",
    "                                'Right': max(prev['BoundingBox']['Left']+prev['BoundingBox']['Width'],\n",
    "                                             curr['BoundingBox']['Left']+curr['BoundingBox']['Width']),\n",
    "                                'Bottom' : max(prev['BoundingBox']['Top']+prev['BoundingBox']['Height'],\n",
    "                                               curr['BoundingBox']['Top']+curr['BoundingBox']['Height'])\n",
    "                            },\n",
    "                            'Type' : 'Table',\n",
    "                            'Child' : prev['Child']\n",
    "                                     }\n",
    "                        ids_to_delete.append(curr['Id'])\n",
    "                        # have to update the cell level row numbers\n",
    "                        curr_cells=[]\n",
    "                        for cell in curr['Child']:\n",
    "                            curr_cells.extend(list(filter(lambda x:(x['Id']==cell),data['Blocks'])))\n",
    "                        for cell in curr_cells:\n",
    "                            cell['RowId'] = row_no\n",
    "                            cell_json.append(cell)\n",
    "                            ids_to_delete.append(cell['Id'])\n",
    "                        prev = table_json\n",
    "                    else:\n",
    "                        prev['Child'].extend(curr['Child'])\n",
    "                        ids_to_delete.append(curr['Id'])\n",
    "                        table_json['BoundingBox']={\n",
    "                                'Left': min(prev['BoundingBox']['Left'],curr['BoundingBox']['Left']),\n",
    "                                'Top' : min(prev['BoundingBox']['Top'],curr['BoundingBox']['Top']),\n",
    "                                'Right': max(prev['BoundingBox']['Right'],\n",
    "                                             curr['BoundingBox']['Left']+curr['BoundingBox']['Width']),\n",
    "                                'Bottom' : max(prev['BoundingBox']['Right'],\n",
    "                                               curr['BoundingBox']['Top']+curr['BoundingBox']['Height'])\n",
    "                            }\n",
    "                        table_json['Child'] = prev['Child']\n",
    "                        curr_cells=[]\n",
    "                        for cell in curr['Child']:\n",
    "                            curr_cells.extend(list(filter(lambda x:(x['Id']==cell),data['Blocks'])))\n",
    "                        for cell in curr_cells:\n",
    "                            cell['RowId'] = row_no\n",
    "                            cell_json.append(cell)\n",
    "                            ids_to_delete.append(cell['Id'])\n",
    "                        prev = table_json\n",
    "\n",
    "    #update table_json Bounding box\n",
    "    bbox = table_json['BoundingBox']\n",
    "    new_bbox = {'Left':bbox['Left'],\n",
    "               'Top':bbox['Top'],\n",
    "               'Width':bbox['Right']-bbox['Left'],\n",
    "               'Height':bbox['Bottom']-bbox['Top']}\n",
    "    table_json['BoundingBox'] = new_bbox\n",
    "\n",
    "    #delete the ids in \n",
    "    final_blocks = [table_json]\n",
    "    final_blocks.extend(cell_json)\n",
    "    for bloc in data['Blocks']:\n",
    "        if bloc['Id'] not in ids_to_delete:\n",
    "            final_blocks.append(bloc)\n",
    "        else:\n",
    "            pass\n",
    "    return final_blocks"
   ]
  },
  {
   "cell_type": "code",
   "execution_count": 7,
   "metadata": {},
   "outputs": [],
   "source": [
    "data_2=table_merger(data)"
   ]
  },
  {
   "cell_type": "code",
   "execution_count": 8,
   "metadata": {},
   "outputs": [],
   "source": [
    "path = r'D:\\iDX\\images and jsons\\newjson.json'\n",
    "img_path = r'D:\\iDX\\images and jsons\\813b12e8-7d2f-4245-aeca-7395bb3c41a1-1.jpg'"
   ]
  },
  {
   "cell_type": "code",
   "execution_count": 54,
   "metadata": {},
   "outputs": [],
   "source": [
    "import cv2\n",
    "import matplotlib.pyplot as plt\n",
    "import numpy as np\n",
    "%matplotlib inline"
   ]
  },
  {
   "cell_type": "code",
   "execution_count": 55,
   "metadata": {},
   "outputs": [],
   "source": [
    "img = cv2.imread(img_path)\n",
    "bg = np.ones(img.shape,dtype=np.uint8)*255"
   ]
  },
  {
   "cell_type": "code",
   "execution_count": 56,
   "metadata": {},
   "outputs": [],
   "source": [
    "cells=list(filter(lambda x:(x['Type']=='Cell'),data_2))"
   ]
  },
  {
   "cell_type": "code",
   "execution_count": 57,
   "metadata": {},
   "outputs": [],
   "source": [
    "table =list(filter(lambda x:(x['Type']=='Table'),data_2))"
   ]
  },
  {
   "cell_type": "code",
   "execution_count": 58,
   "metadata": {},
   "outputs": [],
   "source": [
    "for z in cells:\n",
    "    z=list(z['BoundingBox'].values())\n",
    "    bg=cv2.rectangle(bg,(z[0],z[1]),(z[2]+z[0],z[3]+z[1]),color = (0,0,255), thickness=30)\n",
    "    \n",
    "z = list(table[0]['BoundingBox'].values())\n",
    "bg=cv2.rectangle(bg,(z[0],z[1]),(z[2]+z[0],z[3]+z[1]),color = (0,255,0), thickness=50)"
   ]
  },
  {
   "cell_type": "code",
   "execution_count": 59,
   "metadata": {},
   "outputs": [
    {
     "data": {
      "text/plain": [
       "True"
      ]
     },
     "execution_count": 59,
     "metadata": {},
     "output_type": "execute_result"
    }
   ],
   "source": [
    "cv2.imwrite('test.jpg',bg)"
   ]
  },
  {
   "cell_type": "code",
   "execution_count": 60,
   "metadata": {},
   "outputs": [],
   "source": [
    "f_img=cv2.addWeighted(bg,0.3,img,0.7,0)"
   ]
  },
  {
   "cell_type": "code",
   "execution_count": 61,
   "metadata": {},
   "outputs": [
    {
     "data": {
      "text/plain": [
       "True"
      ]
     },
     "execution_count": 61,
     "metadata": {},
     "output_type": "execute_result"
    }
   ],
   "source": [
    "cv2.imwrite('test_1.jpg',f_img)"
   ]
  },
  {
   "cell_type": "code",
   "execution_count": null,
   "metadata": {},
   "outputs": [],
   "source": []
  }
 ],
 "metadata": {
  "kernelspec": {
   "display_name": "Python 3",
   "language": "python",
   "name": "python3"
  },
  "language_info": {
   "codemirror_mode": {
    "name": "ipython",
    "version": 3
   },
   "file_extension": ".py",
   "mimetype": "text/x-python",
   "name": "python",
   "nbconvert_exporter": "python",
   "pygments_lexer": "ipython3",
   "version": "3.7.6"
  }
 },
 "nbformat": 4,
 "nbformat_minor": 4
}
